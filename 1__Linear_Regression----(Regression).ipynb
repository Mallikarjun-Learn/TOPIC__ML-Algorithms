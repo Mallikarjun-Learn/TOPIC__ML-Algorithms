{
 "cells": [
  {
   "cell_type": "markdown",
   "id": "e08bf32e",
   "metadata": {},
   "source": [
    "<h1> Linear Regression ML-Algorithm</h1>\n",
    "<ol style=\"font-size:25px;line-height:35px\">\n",
    "    <li>Target Variable Type : Continious - Numerical</li>\n",
    "    <li>Multi-variate Linear Regression</li>\n",
    "    <li>(X,y)=(Features , Target-Label)</li>\n",
    "    <li>Supervised Learning</li>\n",
    "    <li>Mathematical Representation</li>\n",
    "    <li>Statistical Learning</li>\n",
    "    <li>Mathematical Algorithms</li>\n",
    "    <li>Iplementation Libraries : <b style=\"color:#ECBD00;font-size:30px\">\" Scikit-learn , Keras , Tensorflow , Pytorch \"</b></li>\n",
    "<!--     <li></li> -->\n",
    "</ol>\n",
    "<p style=\"color:gray;font-size:50px;line-height:55px;text-align:center\">1.Scikit-Learn ,<br> 2.Keras , 3.Tensorflow , 4.Pytorch , <br>5.Pandas , 6.Numpy , 7.PySpark , 8.Scipy </p>\n"
   ]
  },
  {
   "cell_type": "code",
   "execution_count": null,
   "id": "4118815e",
   "metadata": {},
   "outputs": [],
   "source": []
  }
 ],
 "metadata": {
  "kernelspec": {
   "display_name": "Python 3 (ipykernel)",
   "language": "python",
   "name": "python3"
  },
  "language_info": {
   "codemirror_mode": {
    "name": "ipython",
    "version": 3
   },
   "file_extension": ".py",
   "mimetype": "text/x-python",
   "name": "python",
   "nbconvert_exporter": "python",
   "pygments_lexer": "ipython3",
   "version": "3.10.6"
  }
 },
 "nbformat": 4,
 "nbformat_minor": 5
}
